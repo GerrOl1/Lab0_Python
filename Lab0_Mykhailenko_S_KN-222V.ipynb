{
 "cells": [
  {
   "cell_type": "markdown",
   "id": "7dd2a372-d6da-4530-b907-ca33cb1a0be1",
   "metadata": {},
   "source": [
    "# Джибуті\n",
    "Офіційно **Респу́бліка Джибу́ті** — *держава на півночі Африканського Рогу.* Межує із **Еритреєю** на півночі, з **Ефіопією** — на заході й півдні, з **Сомалі** — на південному-сході. Решта кордону проходить по Червоному морю і Аденській затоці. Розмір близько **23 200 квадратних кілометрів.** Столицею країни й головним портом є місто Джибуті. Країна входить до числа країн, що розвиваються.\n",
    "![Djibouti](https://upload.wikimedia.org/wikipedia/commons/2/26/Djibcapital.jpg)\n",
    "\n",
    "## Населення та мови\n",
    "Населення **712 тис.** (2004) (ісса 47 %, афари 37 %, європейці 8 %, араби 6 %); мови: **французька (державна), сомалі, арабська, афарська. Релігія — іслам і християнство.*\n",
    "\n",
    "## Видатні персоналії\n",
    "- **Хассан Гулед Аптідонов** - перший президент Джибуті\n",
    "- **Абді Ідід** - відомий політик та лідер\n",
    "\n",
    "### Природні пам’ятки\n",
    "- **Національний парк Арта**<br>\n",
    "  <img src=\"https://upload.wikimedia.org/wikipedia/commons/thumb/9/98/Goda_Mountains_-_National_Park_of_For%C3%AAt_du_Day.jpg/275px-Goda_Mountains_-_National_Park_of_For%C3%AAt_du_Day.jpg\" width = \"250\">\n",
    "- **Кратер Адалі**<br>\n",
    "  <img src=\"https://expedicia.org/wp-content/uploads/2023/08/wolfe-creek_1.jpg\" width = \"250\">\n",
    "\n",
    "## Клімат\n",
    "**Клімат тропічний, спекотний і сухий.** *Кам'янисті западини і улоговини — одне з найбільш спекотних місць на земній кулі.*\n",
    "| Показник                     | Січ | Лют | Бер | Кві | Тра | Чер | Лип | Сер | Вер | Жов | Лис | Гру |\n",
    "|------------------------------|-----|-----|-----|-----|-----|-----|-----|-----|-----|-----|-----|-----|\n",
    "| *Абсолютний максимум, °C*      | 34  | 34  | 37  | 38  | 44  | 47  | 47  | 47  | 44  | 39  | 36  | 34  |\n",
    "| *Середній максимум, °C*       | 29  | 29  | 31  | 32  | 34  | 37  | 41  | 39  | 36  | 33  | 31  | 29  |\n",
    "| *Середній мінімум, °C*        | 23  | 24  | 25  | 26  | 28  | 30  | 31  | 29  | 29  | 27  | 25  | 23  |\n",
    "| *Абсолютний мінімум, °C*      | 19  | 18  | 21  | 21  | 21  | 23  | 22  | 22  | 23  | 21  | 18  | 17  |\n",
    "| *Кількість дощових днів*      | 3   | 2   | 2   | 1   | 1   | 0   | 1   | 1   | 1   | 1   | 2   | 2   |\n",
    "\n",
    "### Регіони Джибуті:\n",
    "- **Алі-Сабіх (Ali Sabieh)**\n",
    "  - **Округи:**\n",
    "    - Алі-Сабіх округ (Ali Sabieh District)\n",
    "    - Ас Ейла округ (As Eyla District)\n",
    "- **Арта (Arta)**\n",
    "  - **Округи:**\n",
    "    - Арта округ (Arta District)\n",
    "      \n",
    "  <li style=\"color: #FF5733;\"><strong>Дикіль (Dikhil)</strong>\n",
    "    <ul style=\"list-style-type: none;\">\n",
    "      <li style=\"color: #33FF57;\"><strong>Округи:</strong>\n",
    "        <ul style=\"list-style-type: none;\">\n",
    "          <li style=\"color: #3357FF;\">Дикіль округ (Dikhil District)</li>\n",
    "        </ul>\n",
    "      </li>\n",
    "    </ul>\n",
    "  </li>\n",
    "  <li style=\"color: #FF5733;\"><strong>Обок (Obock)</strong>\n",
    "    <ul style=\"list-style-type: none;\">\n",
    "      <li style=\"color: #33FF57;\"><strong>Округи:</strong>\n",
    "        <ul style=\"list-style-type: none;\">\n",
    "          <li style=\"color: #3357FF;\">Обок округ (Obock District)</li>\n",
    "        </ul>\n",
    "      </li>\n",
    "    </ul>\n",
    "  </li>\n",
    "  <li style=\"color: #FF5733;\"><strong>Таджура (Tadjourah)</strong>\n",
    "    <ul style=\"list-style-type: none;\">\n",
    "      <li style=\"color: #33FF57;\"><strong>Округи:</strong>\n",
    "        <ul style=\"list-style-type: none;\">\n",
    "          <li style=\"color: #3357FF;\">Таджура округ (Tadjourah District)</li>\n",
    "        </ul>\n",
    "      </li>\n",
    "    </ul>\n",
    "  </li>\n",
    "</ul>\n",
    "\n",
    "## Гіперпосилання\n",
    "Для детальнішої інформації відвідайте\n",
    "<div style=\"border: 2px solid #000; padding: 10px; display: inline-block;\">\n",
    "  <a href=\"https://uk.wikipedia.org/wiki/Джибуті\" target=\"_blank\">Wikipedia</a>.\n",
    "</div>\n",
    "\n",
    "## Прапор країни"
   ]
  },
  {
   "cell_type": "markdown",
   "id": "d1ca731c-e8bd-4012-ae40-2954075ce125",
   "metadata": {},
   "source": [
    "<svg width=\"600\" height=\"400\" xmlns=\"http://www.w3.org/2000/svg\">\n",
    "  <rect width=\"600\" height=\"200\" fill=\"#A3D5E5\"/>\n",
    "  <rect y=\"200\" width=\"600\" height=\"200\" fill=\"#F2A900\"/>\n",
    "  <polygon points=\"0,0 0,400 200,200\" fill=\"#A31F34\"/>\n",
    "  <polygon points=\"150,200 160,220 180,220 165,230 170,250 150,240 130,250 135,230 120,220 140,220\" fill=\"#FFFFFF\"/>\n",
    "</svg>\n"
   ]
  },
  {
   "cell_type": "code",
   "execution_count": 46,
   "id": "f81f0303-36c3-4802-9c0b-751b5fd1b310",
   "metadata": {},
   "outputs": [
    {
     "data": {
      "text/html": [
       "<svg width=\"300\" height=\"200\" xmlns=\"http://www.w3.org/2000/svg\">\n",
       "  <rect width=\"300\" height=\"200\" fill=\"#3B9ED8\"/>\n",
       "  <rect width=\"300\" height=\"100\" fill=\"#A7D30D\" y=\"100\"/> \n",
       "  <polygon points=\"0,0 100,100 0,200\" fill=\"#FFFFFF\"/>\n",
       "  <polygon points=\"50,75 55,90 70,90 57,100 60,115 50,105 40,115 43,100 30,90 45,90\" fill=\"#D72B1D\"/>\n",
       "</svg>\n"
      ],
      "text/plain": [
       "<IPython.core.display.HTML object>"
      ]
     },
     "metadata": {},
     "output_type": "display_data"
    }
   ],
   "source": [
    "%%HTML\n",
    "<svg width=\"300\" height=\"200\" xmlns=\"http://www.w3.org/2000/svg\">\n",
    "  <rect width=\"300\" height=\"200\" fill=\"#3B9ED8\"/>\n",
    "  <rect width=\"300\" height=\"100\" fill=\"#A7D30D\" y=\"100\"/> \n",
    "  <polygon points=\"0,0 100,100 0,200\" fill=\"#FFFFFF\"/>\n",
    "  <polygon points=\"50,75 55,90 70,90 57,100 60,115 50,105 40,115 43,100 30,90 45,90\" fill=\"#D72B1D\"/>\n",
    "</svg>"
   ]
  },
  {
   "cell_type": "code",
   "execution_count": 48,
   "id": "76c99257-2f96-4ec1-83b2-c9b2ebcb0a3f",
   "metadata": {},
   "outputs": [],
   "source": [
    "def bubble_sort_with_count(arr):\n",
    "    n = len(arr)\n",
    "    swap_count = 0\n",
    "    for i in range(n):\n",
    "        for j in range(0, n - i - 1):\n",
    "            if arr[j] > arr[j + 1]:\n",
    "                # Переставлення\n",
    "                arr[j], arr[j + 1] = arr[j + 1], arr[j]\n",
    "                swap_count += 1\n",
    "    return swap_count\n",
    "\n",
    "def task_4():\n",
    "    input_str = input(\"Введіть числа через пробіл: \")\n",
    "    try:\n",
    "        input_list = list(map(int, input_str.split()))\n",
    "        if not input_list:\n",
    "            print(\"Список не може бути порожнім.\")\n",
    "            return\n",
    "        \n",
    "        swaps = bubble_sort_with_count(input_list)\n",
    "        print(f\"Було виконано {swaps} переставлень\")\n",
    "        print(f\"Відсортований ряд: {' '.join(map(str, input_list))}\")\n",
    "    except ValueError:\n",
    "        print(\"Будь ласка, введіть лише числа через пробіл.\")\n"
   ]
  },
  {
   "cell_type": "code",
   "execution_count": 41,
   "id": "bcc7a0f0-9049-410c-b525-88e98a5fa875",
   "metadata": {},
   "outputs": [
    {
     "name": "stdin",
     "output_type": "stream",
     "text": [
      "Введіть числа через пробіл:  7 3 1 7 4 2 8 2\n"
     ]
    },
    {
     "name": "stdout",
     "output_type": "stream",
     "text": [
      "Було виконано 14 переставлень\n",
      "Відсортований ряд: 1 2 2 3 4 7 7 8\n"
     ]
    }
   ],
   "source": [
    "task_4()"
   ]
  },
  {
   "cell_type": "code",
   "execution_count": 44,
   "id": "9969088f-a413-42ad-9dfa-d2cc7163ccca",
   "metadata": {},
   "outputs": [
    {
     "name": "stdin",
     "output_type": "stream",
     "text": [
      "Введіть числа через пробіл:  5 6 23 8 12 5\n"
     ]
    },
    {
     "name": "stdout",
     "output_type": "stream",
     "text": [
      "Було виконано 6 переставлень\n",
      "Відсортований ряд: 5 5 6 8 12 23\n"
     ]
    }
   ],
   "source": [
    "task_4()"
   ]
  },
  {
   "cell_type": "code",
   "execution_count": 45,
   "id": "90ede88a-717e-4598-a5a1-c6aad7ee3c19",
   "metadata": {},
   "outputs": [
    {
     "name": "stdin",
     "output_type": "stream",
     "text": [
      "Введіть числа через пробіл:  d s s\n"
     ]
    },
    {
     "name": "stdout",
     "output_type": "stream",
     "text": [
      "Будь ласка, введіть лише числа через пробіл.\n"
     ]
    }
   ],
   "source": [
    "task_4()\n"
   ]
  }
 ],
 "metadata": {
  "kernelspec": {
   "display_name": "Python 3 (ipykernel)",
   "language": "python",
   "name": "python3"
  },
  "language_info": {
   "codemirror_mode": {
    "name": "ipython",
    "version": 3
   },
   "file_extension": ".py",
   "mimetype": "text/x-python",
   "name": "python",
   "nbconvert_exporter": "python",
   "pygments_lexer": "ipython3",
   "version": "3.10.11"
  }
 },
 "nbformat": 4,
 "nbformat_minor": 5
}
